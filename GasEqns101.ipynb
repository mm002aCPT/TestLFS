{
  "cells": [
    {
      "cell_type": "markdown",
      "metadata": {
        "id": "18bAasGZlyjT"
      },
      "source": [
        "# GTE 101 --- Gas transport equations + utilities"
      ]
    },
    {
      "cell_type": "markdown",
      "metadata": {
        "id": "4zug0gLJlyjW"
      },
      "source": [
        "#### Version1.0      27/July/2020, Chris Thompson\n",
        "### Objectives\n",
        "This is aimed as a walkthrough - how to solve problems using the gas transport equations. The aim is simplicity and clarity; it should be read in conjunction with the lecture notes and worksheet.\n",
        "\n",
        "> *There is a large body of pedagogic research which shows that students' long term achievement is significantly enhanced if individuals work through problems for themselves rather than copying material.*\n"
      ]
    },
    {
      "cell_type": "markdown",
      "metadata": {
        "id": "YwFcVkP1lyjX"
      },
      "source": [
        " ### Introduction\n",
        " We have derived the steady transport equation for gas a long a pipeline:\n",
        ">$ $\n",
        "\\begin{align}\n",
        " \\left ( \\frac{464 S_g}{\\pi^2 \\overline{R}^2}\\right )\n",
        "  \\left ( \\frac{P_{st}}{z_{st}T_{st}}\\right )^2 \n",
        "   \\frac{fL}{D^5}\\dot{Q}_{st}^2 =\n",
        "  \\frac{P_{in}^2-P_{out}^2}{z_{avg} \\overline{R} T_{avg}} +\n",
        "\\frac{g P^2_{avg}58 S_g}{z^2_{avg} \\overline{R}^2 T^2_{avg}}(H_{in}-H_{out}) \n",
        "\\end{align}"
      ]
    },
    {
      "cell_type": "markdown",
      "metadata": {
        "id": "p1x6nQlHlyjY"
      },
      "source": [
        "### Different transmission factors\n",
        "Different approximations are used for the friction factor $f$. These are applicable to different\n",
        "flow regimes and pipe diameters. Each gives a different transport formula.  \n",
        "For simplicity we will consider the AGA (American Gas Association) formula for fully turbulent flow.\n",
        "\n",
        "- `TFAGA`: The transmission factor used for the AGA equation is:\n",
        "> $\n",
        "\\frac{1}{\\sqrt{f}} = 2 \\log_{10}\\left (\\frac{3.7D}{\\epsilon}\\right )\n",
        "$\n",
        "\n",
        "We substitute this expression into the transport equation above to obtain: \n",
        "> $\n",
        "\\dot{Q}_{st} = 13.2986 \\frac{T_{st}}{P_{st}}\n",
        "\\left [ \\frac{P_1^2-P_2^2-E_{PE}}{L ~S_g~ T_{avg}z_{avg}} \\right ] ^{1/2}\n",
        "\\left [ 2\\log_{10}\\left ( \\frac{3.7 D}{\\epsilon}\\right ) \\right ] D^{5/2}\n",
        "$\n",
        "\n",
        "For the purposes of this note we write this equation as:\n",
        "\n",
        "\\begin{align*}\n",
        "{\\cal F}(\\dot{Q}_{st}, P_{in}, P_{out}, L)\n",
        "\\end{align*}\n",
        "Simple algebra let's us re-arrange this to make each of the variables the subject of the equation:  \n",
        "\\begin{align}\n",
        "\\dot{Q}_{st} &= {\\cal F}_{\\dot{Q}_{st}} (P_{in}, P_{out}, L) \\\\\n",
        "P_{in} &= {\\cal F}_{P_{in}} (\\dot{Q}_{st}, P_{out}, L) \\\\\n",
        "P_{out} &= {\\cal F}_{P_{out}} (\\dot{Q}_{st}, P_{in}, L) \\\\\n",
        "L &= {\\cal F}_{L} (\\dot{Q}_{st}, P_{in}, P_{out}) \n",
        "\\end{align}"
      ]
    },
    {
      "cell_type": "markdown",
      "metadata": {
        "id": "UpK95G0tlyjY"
      },
      "source": [
        "#### Validation -- transport equations\n",
        "-  For clarity we write a function `AGA(Pin, Pout, L)` which returns Qst.  \n",
        "-  Then we define write a function `AGAGen(Qst, Pin, Pout, L)`.  \n",
        "  -  One of the arguments shold be set to **-9999**.  \n",
        "  -  The function will return this value.\n",
        "- Effectively we have defined the last four (explicit) functions above."
      ]
    },
    {
      "cell_type": "code",
      "execution_count": 1,
      "metadata": {
        "id": "_3sIWaaAlyjZ",
        "outputId": "f50b0981-b601-4129-c181-04987fabf728",
        "colab": {
          "base_uri": "https://localhost:8080/"
        }
      },
      "outputs": [
        {
          "output_type": "stream",
          "name": "stdout",
          "text": [
            "Validate AGA function.\n",
            "Flow rate - using AGA:         3.5805e+01 SCM/sec  =    3.0935e+00 MSCM/day\n",
            "\n",
            "    AGA(Pin,Pout,D,L,Sg, Tavg = 277.2K, zavg = 1, Tst = 288.15K, Pst = 1.01325E5Pa, EPE = 0)\n",
            "    - use the AGA  formula to generate Qdot_st from Pin, Pout, D(iameter), L(ength) etc.\n",
            "    Qdot in standard cubic metres per second.\n",
            "    \n"
          ]
        }
      ],
      "source": [
        "#DEFINE Transport Equations as Qdot = f(Pin, Pout; parameters)\n",
        "import math\n",
        "def AGA(Pin, Pout, D, L, Sg, Tavg = 277.2, zavg = 1, Tst = 288.15, Pst = 1.01325E5, epsilon = 0.046E-3, EPE = 0, DEBUG = 0):\n",
        "    \"\"\"\n",
        "    AGA(Pin,Pout,D,L,Sg, Tavg = 277.2K, zavg = 1, Tst = 288.15K, Pst = 1.01325E5Pa, EPE = 0)\n",
        "    - use the AGA  formula to generate Qdot_st from Pin, Pout, D(iameter), L(ength) etc.\n",
        "    Qdot in standard cubic metres per second.\n",
        "    \"\"\"\n",
        "    T1 = 13.2986 * (Tst/Pst)*pow(D,5/2)\n",
        "    denom = Sg * Tavg *zavg\n",
        "    trans = 2*math.log10(3.7*D/epsilon)\n",
        "    T2 = (pow(Pin,2) - pow(Pout,2) - EPE)/(L* denom)\n",
        "    Qst = T1*trans*pow(T2,1/2)\n",
        "    #print(\"AGA-denom:\",denom,\"trans:\",trans,\"T1\",T1,\"T2\",T2)\n",
        "    return Qst\n",
        "\n",
        "\n",
        "AGAF = AGA(9E6,2E6, 0.34, 1.6E5, 0.693)\n",
        "print(\"Validate AGA function.\")\n",
        "print(\"Flow rate - using AGA:      \", '{:12.4e}'.format(AGAF),\"SCM/sec\", \" = \",'{:12.4e}'.format((AGAF*24*3600)/1E6),\"MSCM/day\");\n",
        "print(AGA.__doc__)#Just show how the documentation method works."
      ]
    },
    {
      "cell_type": "code",
      "execution_count": 3,
      "metadata": {
        "id": "vtP4y-IHlyja",
        "outputId": "7b6b4139-a58c-47d8-a107-c8eb9fb431a9",
        "colab": {
          "base_uri": "https://localhost:8080/"
        }
      },
      "outputs": [
        {
          "output_type": "stream",
          "name": "stdout",
          "text": [
            "35.25796615574416  Weymouth:  34.25483928234368\n",
            "8756761.036884634  Weymouth:  9000000.0\n",
            "2884291.2722017444  Weymouth:  2000000.0\n",
            "174805.29709965378  Weymouth:  165000.0\n"
          ]
        }
      ],
      "source": [
        "#DEFINE AGA Transport Equations as RetCode = f(Qdot, Pin, Pout,L; parameters)\n",
        "#Syntax: OUTPUT variable is initialised to -9999.\n",
        "#This works because, in real life everything must be positive.\n",
        "#Example:{Qdot, Pin, Pout,L} \n",
        "#  Legal examples: {-9999, Pin>Pout, Pout>0,L}- find Qdot\n",
        "#                  {Qin>0,-Pin,-9999,L} find Pout by varying Pin\n",
        "\n",
        "def AGAGen(Qdot, Pin, Pout, L, D, Sg, \n",
        "           Tavg = 277.2, zavg = 1, Tst=288.15, Pst=1.01325E5, epsilon = 0.046E-3, EPE=0, Const=137.2364,\n",
        "           DEBUG = 0):\n",
        "    \"\"\"\n",
        "    AGAGen(Qdot, Pin, Pout, L, D, Sg, \n",
        "           Tavg = 277.2K, zavg = 1, Tst = 288.15K, Pst = 1.01325E5Pa, epsilon = 0.046E-3, EPE = 0)\n",
        "    - the AGA (turb) formula to generate one of {Qdot_st, Pin, Pout, L} - given the other three.\n",
        "    The unknown is specified by a value of -9999. \n",
        "    We use PARAMS: [D(iameter), Sg].\n",
        "    Qdot in standard cubic metres per second.\n",
        "    \"\"\"\n",
        "    #Only one of Qdot, Pin, Pout, L should be -9999\n",
        "    import math\n",
        "    MainArgs = [Qdot, Pin, Pout, L]\n",
        "    PARAMS = [D, Sg]\n",
        "    if not (MainArgs.count(-9999) == 1): \n",
        "        print(\"Error - only one argument shout be -9999\")\n",
        "        return -9999\n",
        "    T1 = 13.2986 * (Tst/Pst)*(2*math.log10(3.7*D/epsilon))*pow(D,5/2)\n",
        "    denom = Sg * Tavg *zavg\n",
        "    if Qdot == -9999 :\n",
        "        if DEBUG == 1 : print(\"AGA to find Qdot. Pin: \", '{:12.3e}'.format(Pin), \" Pout: \", '{:12.3e}'.format(Pout))\n",
        "        Qst = T1*math.sqrt((Pin**2 - Pout**2 - EPE)/(L*denom))\n",
        "        return Qst\n",
        "    elif Pin == -9999:\n",
        "        if DEBUG == 1 : print(\"AGAGen to find Pin. Qdot: \", '{:12.3e}'.format(Qdot), \" Pout: \", '{:12.3e}'.format(Pout))\n",
        "        PinSq = L*denom*(Qdot/T1)**2 + Pout**2 + EPE\n",
        "        Pin = math.sqrt(PinSq)\n",
        "        if DEBUG == 1 : print(\"In AGAGen!!: \", Qdot,Pin)\n",
        "        return Pin\n",
        "    elif Pout == -9999:\n",
        "        if DEBUG == 1 : print(\"AGAGen to find Pout. Qdot: \", '{:12.3e}'.format(Qdot), \" Pin: \", '{:12.3e}'.format(Pin))\n",
        "        PoutSq = Pin**2 - L*denom*(Qdot/T1)**2 - EPE\n",
        "        Pout = math.sqrt(PoutSq)\n",
        "        return Pout\n",
        "    elif L == -9999:\n",
        "        T2 = (pow(Pin,2) - pow(Pout,2) - EPE)/denom\n",
        "        L = (T1/Qdot)**2 * T2\n",
        "        return L\n",
        "    return \"ERROR\"\n",
        "\n",
        "\n",
        "#ANSWER Weymouth(34.25483928234368 , 9E6, 2E6,165km)(from previous Jupyter notebook.)\n",
        "#               ,D,Sg,zavg=1,Tst=288.15,Pst=1.01325E5,EPE = 0)\n",
        "print(AGAGen(-9999 , 9E6, 2E6, 1.65E5, 0.34, 0.693, DEBUG = 0), \" Weymouth: \", 34.25483928234368)#CORRECT\n",
        "print(AGAGen(34.25483928234368 , -9999, 2E6, 1.65E5, 0.34, 0.693, DEBUG = 0), \" Weymouth: \", 9.0E6)#CORRECT\n",
        "print(AGAGen(34.25483928234368 , 9E6, -9999, 1.65E5, 0.34, 0.693, DEBUG = 0), \" Weymouth: \", 2.0E6)#CORRECT\n",
        "print(AGAGen(34.25483928234368 , 9E6, 2E6, -9999, 0.34, 0.693, DEBUG = 0), \" Weymouth: \", 1.65E5)#CORRECT"
      ]
    },
    {
      "cell_type": "markdown",
      "metadata": {
        "id": "0q1do3dTlyjc"
      },
      "source": [
        "### Now for the worksheet\n",
        "#### Case 1\n",
        "A horizontal, natural gas pipeline, made of DN 350 Schedule 20 pipe, is 160km long.  \n",
        "The inlet pressure (Point A) is 90 bara and the outlet pressure (Point B) is 20 bara; the average gas temperature is $4^\\circ$C.  \n",
        "The gas consists of 75% methane, 21% ethane and 4% propane.\n",
        "\n",
        "Use the simplified isothermal flow equation to calculate the flow rate in standard cubic metres per day.\n",
        "(Recall that the specification DN350 means that the diameter of this pipe is 340mm.)\n",
        "\n",
        "> *For simplicity we'll do these cases using the AGA equation for fully turbulent flow.*"
      ]
    },
    {
      "cell_type": "code",
      "execution_count": 4,
      "metadata": {
        "id": "c9z95Vrclyjd",
        "outputId": "0db6dc93-4e6a-44be-d65a-b0b2f989ab76",
        "colab": {
          "base_uri": "https://localhost:8080/"
        }
      },
      "outputs": [
        {
          "output_type": "stream",
          "name": "stdout",
          "text": [
            "35.80463388982756 SCM/sec\n",
            "3093520.3680811008 SCM/day\n"
          ]
        }
      ],
      "source": [
        "#Case 1 - using AGA\n",
        "print(AGAGen(-9999, 9E6, 2E6, 1.60E5, 0.34, 0.693), \"SCM/sec\")\n",
        "print(AGAGen(-9999, 9E6, 2E6, 1.60E5, 0.34, 0.693)*3600*24, \"SCM/day\")\n"
      ]
    },
    {
      "cell_type": "markdown",
      "metadata": {
        "id": "ZyOWduXBlyjd"
      },
      "source": [
        "#### Case 2\n",
        "The above pipe has a second pipe constructed alongside to increase the flow capacity.\n",
        "We now have a simple 'network' of two horizontal gas pipelines connecting two manifolds.\n",
        "The distance between the manifolds is 100km.\n",
        "The diameter of Pipe AB is 350mm, the diameter of Pipe CD is 400mm.\n",
        " \n",
        "Given that the outlet pressure is 20bara, find the inlet pressure so that the combined volumetric flow rate in the two pipes sums to $6 \\times 10^6$ standard cubic metres per day.\n",
        "\n",
        "What is the flow rate in each pipe?\n",
        "\n",
        ">_In this case we have two pipes (of different diameters).  \n",
        "The inlet and outlet pressures are the same. **Why?**  \n",
        "We end up with two non-linear, algebraic equations:_  \n",
        "\\begin{align}\n",
        "P^{[1]}_{in} &= {\\cal F}_{P_{in}} (\\dot{Q}^{[1]}_{st}, P_{out}, 100km) \\\\\n",
        "P^{[2]}_{in} &= {\\cal F}_{P_{in}} (\\dot{Q}^{[2]}_{st}, P_{out}, 100km) \\\\\n",
        "\\textsf{We know the value of the outlet pressure: } P_{out} &= 2\\times10^6\\\\\n",
        "\\textsf{We also have two constraints to satisfy: }\\\\\n",
        "P^{[1]}_{in} &= P^{[2]}_{in} \\\\\n",
        "\\dot{Q}^{[1]}_{st} + \\dot{Q}^{[2]}_{st} &= \\frac{6.0\\times 10^6}{3600 \\times 24}\n",
        "\\end{align}\n",
        "_There are different ways to solve these equations, we use an iterative scheme, coded explicitly.  \n",
        "The scheme is simply linear interpolation.  \n",
        "This converges quickly, but we need to establish a bracket -  \n",
        "in this case there are obvious choices.\n",
        "**How do these initial guesses work?**_"
      ]
    },
    {
      "cell_type": "code",
      "execution_count": 5,
      "metadata": {
        "id": "linEwRbWlyje",
        "outputId": "12866d4c-b5bf-45d2-926d-a9f264f7297b",
        "colab": {
          "base_uri": "https://localhost:8080/"
        }
      },
      "outputs": [
        {
          "output_type": "stream",
          "name": "stdout",
          "text": [
            "TwinPipes success - Pin:     5.542e+06\n",
            "Output from TwinPipes - inlet pressure:     5.542e+06\n",
            "AGAGen Pipe 1 - Flow rate:     2.485e+06\n",
            "AGAGen Pipe 2 - Flow rate:     3.515e+06\n",
            "Total DAILY flow rate:     6.000e+06\n"
          ]
        }
      ],
      "source": [
        "#Case 2\n",
        "def TwinPipes(TotFlow, DEBUG = 0):\n",
        "    #Initialize\n",
        "    Q1m = 0.5*TotFlow; Q1p = TotFlow\n",
        "    #PIPE1:\n",
        "    Pin1m = AGAGen(Q1m, -9999, 2E6, 1.00E5, 0.35, 0.693)\n",
        "    Pin1p = AGAGen(Q1p, -9999, 2E6, 1.00E5, 0.35, 0.693)\n",
        "    #PIPE2:\n",
        "    Q2m = TotFlow - Q1m\n",
        "    Pin2m = AGAGen(Q2m, -9999, 2E6, 1.00E5, 0.40, 0.693)\n",
        "    Q2p = TotFlow - Q1p\n",
        "    Pin2p = AGAGen(Q2p, -9999, 2E6, 1.00E5, 0.40, 0.693)\n",
        "    if DEBUG == 1:\n",
        "        print(\"init- \",\" Pin1m: \", '{:12.3e}'.format(Pin1m), \" Q1m: \", '{:12.3e}'.format(Q1m))\n",
        "        print(\"init- \",\" Pin2m: \", '{:12.3e}'.format(Pin2m), \" Q2m: \", '{:12.3e}'.format(Q2m))\n",
        "        print(\"init- \",\" Pin1p: \", '{:12.3e}'.format(Pin1p), \" Q1p: \", '{:12.3e}'.format(Q1p))\n",
        "        print(\"init- \",\" Pin2p: \", '{:12.3e}'.format(Pin2p), \" Q2p: \", '{:12.3e}'.format(Q2p))\n",
        "    \n",
        "    for i in range(0,20):\n",
        "        DPp = Pin1p - Pin2p; DPm = Pin1m - Pin2m;\n",
        "        Q1star = Q1p - (Q1p-Q1m)*(DPp - 0)/(DPp-DPm)\n",
        "        if DEBUG == 1: print(\"Q1p,Q1star,Q1m: \",'{:12.3e}'.format(Q1p), '{:12.3e}'.format(Q1star),'{:12.3e}'.format(Q1m),\n",
        "          \" Pin1p,DPp,DPm: \", '{:12.3e}'.format(Pin1p), '{:12.3e}'.format(DPp), '{:12.3e}'.format(DPm))\n",
        "        Q1p = Q1m;\n",
        "        Q1m = Q1star;\n",
        "        #PIPE1:\n",
        "        Pin1m = AGAGen(Q1m, -9999, 2E6, 1.00E5, 0.35, 0.693)\n",
        "        Pin1p = AGAGen(Q1p, -9999, 2E6, 1.00E5, 0.35, 0.693)\n",
        "        #PIPE2:\n",
        "        Q2m = TotFlow - Q1m\n",
        "        Pin2m = AGAGen(Q2m, -9999, 2E6, 1.00E5, 0.40, 0.693)\n",
        "        Q2p = TotFlow - Q1p\n",
        "        Pin2p = AGAGen(Q2p, -9999, 2E6, 1.00E5, 0.40, 0.693)\n",
        "        if DEBUG == 1:\n",
        "            print(\"i- \", i, \" Pin1m: \", '{:12.3e}'.format(Pin1m), \" Q1m: \", Q1m)\n",
        "            print(\"i- \", i, \" Pin2m: \", '{:12.3e}'.format(Pin2m), \" Q2m: \", Q2m)\n",
        "            print(\"i- \", i, \" Pin1p: \", '{:12.3e}'.format(Pin1p), \" Q1p: \", Q1p)\n",
        "            print(\"i- \", i, \" Pin2p: \", '{:12.3e}'.format(Pin2p), \" Q2p: \", Q2p)\n",
        "        if abs(DPp/Pin1p) < 10.0E-5: \n",
        "            print(\"TwinPipes success - Pin: \", '{:12.3e}'.format(Pin1p))\n",
        "            return Pin1p\n",
        "\n",
        "TwP = TwinPipes(6.0E6/(3600*24))\n",
        "print(\"Output from TwinPipes - inlet pressure: \", '{:12.3e}'.format(TwP))\n",
        "print(\"AGAGen Pipe 1 - Flow rate: \", '{:12.3e}'.format(24*3600*AGAGen(-9999, TwP, 2E6, 1.00E5, 0.35, 0.693)))\n",
        "print(\"AGAGen Pipe 2 - Flow rate: \", '{:12.3e}'.format(24*3600*AGAGen(-9999, TwP, 2E6, 1.00E5, 0.40, 0.693)))\n",
        "print(\"Total DAILY flow rate: \", \n",
        "      '{:12.3e}'.format(24*3600*(AGAGen(-9999, TwP, 2E6, 1.00E5, 0.35, 0.693) + AGAGen(-9999, TwP, 2E6, 1.00E5, 0.40, 0.693))))\n"
      ]
    },
    {
      "cell_type": "markdown",
      "metadata": {
        "id": "QDrYSA_Klyje"
      },
      "source": [
        "#### Case 3\n",
        "The above double pipe is extended by a single pipeline EF of diameter 500mm. The distance E to F is 150km. The point F is 300m higher than E. The temperature of points A(=C) and B (=D=E) is $20^\\circ$C. The temperature at point F is $4^\\circ$C.\n",
        " \n",
        "If the inlet pressure 85 bara and the outlet pressure is 20 bara calculate the flow rate in each pipe and the pressure at Point E.\n",
        "\n",
        ">_For simplicity we ignore the change in potential energy.  \n",
        "In this case we have three pipes (of different diameters).  \n",
        "The arrangement of the manifolds determines the relationship between the pressures. **Is this clear to you?**  \n",
        "We end up with four non-linear, algebraic equations:_  \n",
        "\\begin{align}\n",
        "P^{[1]}_{out} &= {\\cal F}_{P_{in}} (\\dot{Q}^{[1]}_{st}, P^{[1]}_{out}, 100km) \\\\\n",
        "P^{[2]}_{out} &= {\\cal F}_{P_{in}} (\\dot{Q}^{[2]}_{st}, P^{[2]}_{out}, 100km) \\\\\n",
        "P^{[3]}_{in} &= {\\cal F}_{P_{in}} (\\dot{Q}^{[3]}_{st}, P^{[3]}_{out}, 100km)\n",
        "\\end{align}\n",
        "We know the value of the inlet pressure: $P^{[1]}_{in} = P^{[2]}_{in} = 85$bara  \n",
        "We know the value of the outlet pressure: $P^{[3]}_{out} = 20$bara  \n",
        "We also have the constraints:  \n",
        "\\begin{align}\n",
        "P^{[1]}_{out} &= P^{[2]}_{out} = P^{[3]}_{in}  ~ ~ ~(=P_{mid})\\\\\n",
        "\\dot{Q}^{[1]}_{st} + \\dot{Q}^{[2]}_{st} &= \\dot{Q}^{[3]}_{st}\n",
        "\\end{align}\n",
        "_There are different ways to solve these equations, we use the same approach as above._"
      ]
    },
    {
      "cell_type": "code",
      "execution_count": 6,
      "metadata": {
        "id": "HGil11G8lyjf",
        "outputId": "ed64fef4-5aff-4b32-ac4f-88a53d883f6e",
        "colab": {
          "base_uri": "https://localhost:8080/"
        }
      },
      "outputs": [
        {
          "output_type": "stream",
          "name": "stdout",
          "text": [
            "ThreePipes success - Pmid:     6.594e+06\n",
            "Output from ThreePipes - mid-manifold pressure:     6.594e+06\n",
            "AGAGen Pipe 1 - Flow rate:  2578808.259980748\n",
            "AGAGen Pipe 2 - Flow rate:  3647729.735208989\n",
            "AGAGen Pipe 3 - Flow rate:  6226537.9979890315\n",
            "Total INPUT to mid-manifold flow rate:  6226537.9951897375\n"
          ]
        }
      ],
      "source": [
        "#Case 3 :)\n",
        "#Case 3.1 - Assume everything is at the same temperature and height.\n",
        "\n",
        "def ThreePipes(TotFlow, DEBUG = 0):\n",
        "    #Initialize\n",
        "    Pmidp = 2*8.5E6/3+2.0E6/3\n",
        "    Pmidm = 8.5E6/3 + 2*2.0E6/3\n",
        "    #PIPE1:\n",
        "    Q1m = AGAGen(-9999, 8.5E6, Pmidm, 1.00E5, 0.35, 0.693)\n",
        "    Q1p = AGAGen(-9999, 8.5E6, Pmidp, 1.00E5, 0.35, 0.693)\n",
        "    #PIPE2:\n",
        "    Q2m = AGAGen( -9999, 8.5E6, Pmidm, 1.00E5, 0.40, 0.693)\n",
        "    Q2p = AGAGen( -9999, 8.5E6, Pmidp, 1.00E5, 0.40, 0.693)\n",
        "    #PIPE3:\n",
        "    Q3m = AGAGen( -9999, Pmidm, 2E6, 1.50E5, 0.40, 0.693)\n",
        "    Q3p = AGAGen( -9999, Pmidp, 2E6, 1.50E5, 0.40, 0.693)\n",
        "\n",
        "    for i in range(1,20):\n",
        "        if DEBUG == 1:\n",
        "            print(\"i- \",i,\" Pmid1m: \", '{:12.3e}'.format(Pmidm), \" Q1m: \", '{:12.3e}'.format(Q1m))\n",
        "            print(\"i- \",i,\" Pmid2m: \", '{:12.3e}'.format(Pmidm), \" Q2m: \", '{:12.3e}'.format(Q2m))\n",
        "            print(\"i- \",i,\" Pmid1p: \", '{:12.3e}'.format(Pmidp), \" Q1p: \", '{:12.3e}'.format(Q1p))\n",
        "            print(\"i- \",i,\" Pmid2p: \", '{:12.3e}'.format(Pmidp), \" Q2p: \", '{:12.3e}'.format(Q2p))\n",
        "            print(\"i- \",i,\" Pmid3m: \", '{:12.3e}'.format(Pmidm), \" Q3p: \", '{:12.3e}'.format(Q3m))\n",
        "            print(\"i- \",i,\" Pmid3p: \", '{:12.3e}'.format(Pmidp), \" Q3p: \", '{:12.3e}'.format(Q3p))\n",
        "        #First calculate the flow rate through the twin pipes and the outlet pipe (3):\n",
        "        Q1m = AGAGen(-9999, 8.5E6, Pmidm, 1.00E5, 0.35, 0.693)\n",
        "        Q2m = AGAGen(-9999, 8.5E6, Pmidm, 1.00E5, 0.40, 0.693)\n",
        "        Q3m = AGAGen(-9999, Pmidm, 2.0E6, 1.50E5, 0.50, 0.693)\n",
        "        ErrQm = Q3m - ( Q1m + Q2m)\n",
        "        Q1p = AGAGen(-9999, 8.5E6, Pmidp, 1.00E5, 0.35, 0.693)\n",
        "        Q2p = AGAGen(-9999, 8.5E6, Pmidp, 1.00E5, 0.40, 0.693)\n",
        "        Q3p = AGAGen(-9999, Pmidp, 2.0E6, 1.50E5, 0.50, 0.693)\n",
        "        ErrQp = Q3p - ( Q1p + Q2p)\n",
        "        PmidStar = Pmidm - (Pmidm - Pmidp)*(ErrQm - 0)/(ErrQm - ErrQp)\n",
        "        Pmidm = Pmidp\n",
        "        Pmidp = PmidStar\n",
        "        if abs(ErrQp/Q3p) < 10.0E-5: \n",
        "            print(\"ThreePipes success - Pmid: \", '{:12.3e}'.format(Pmidp))\n",
        "            return Pmidp\n",
        "    return \"ERROR\"\n",
        "\n",
        "\n",
        "\n",
        "T3P = ThreePipes(6.0E6/(3600*24), DEBUG = 0)\n",
        "print(\"Output from ThreePipes - mid-manifold pressure: \", '{:12.3e}'.format(T3P))\n",
        "print(\"AGAGen Pipe 1 - Flow rate: \", 24*3600*AGAGen(-9999, 8.5E6, T3P, 1.00E5, 0.35, 0.693))\n",
        "print(\"AGAGen Pipe 2 - Flow rate: \", 24*3600*AGAGen(-9999, 8.5E6, T3P, 1.00E5, 0.40, 0.693))\n",
        "print(\"AGAGen Pipe 3 - Flow rate: \", 24*3600*AGAGen(-9999, T3P, 2.0E6, 1.50E5, 0.50, 0.693))\n",
        "\n",
        "print(\"Total INPUT to mid-manifold flow rate: \", \n",
        "      24*3600*((AGAGen(-9999, 8.5E6, T3P, 1.00E5, 0.35, 0.693) + AGAGen(-9999, 8.5E6, T3P, 1.00E5, 0.40, 0.693))))\n"
      ]
    },
    {
      "cell_type": "code",
      "execution_count": null,
      "metadata": {
        "id": "FJ_PQxQvlyjf",
        "outputId": "08e39f52-973a-442a-94e9-ac046e653f6c"
      },
      "outputs": [
        {
          "name": "stdout",
          "output_type": "stream",
          "text": [
            "   leak 6164272.616840874\n",
            "   DP= 4548214.129555363\n",
            "Output from ThreePipes - mid-manifold pressure:  6.5942e+06\n",
            "AGAGen Pipe 1 - Flow rate:  2.5788e+06 SCMPD\n",
            "AGAGen Pipe 2 - Flow rate:  3.6477e+06 SCMPD\n",
            "AGAGen Pipe 3 - Flow rate:  6.2265e+06 SCMPD\n",
            "Total INPUT to mid-manifold flow rate:  6226537.996809379\n"
          ]
        }
      ],
      "source": [
        "#Case 3 :) Re-do with fsolve.\n",
        "#Case 3.1 - Assume everything is at the same temperature and height.\n",
        "from scipy import optimize\n",
        "def func3pipes(x, PARAMS):\n",
        "    DEBUG = PARAMS[0]\n",
        "    if DEBUG == 1:\n",
        "        print(\"func3pipes - x:\",'{:9.3e}'.format(x[0]))#,\" 8.5E6\":\",'{:9.3e}'.format(x[0]))\n",
        "    Pmidm = x[0]\n",
        "    Q1 = AGAGen(-9999, 8.5E6, Pmidm, 1.00E5, 0.35, 0.693, DEBUG = 0)\n",
        "    Q2 = AGAGen(-9999, 8.5E6, Pmidm, 1.00E5, 0.40, 0.693)\n",
        "    Pmid3 = AGAGen(Q1+Q2, -9999, 2.0E6, 1.50E5, 0.50, 0.693)\n",
        "    #Do I need to have an estimate for the error in P at the middle - guess not!\n",
        "    error = Pmid3-Pmidm\n",
        "    if DEBUG == 1:\n",
        "        print (\"err:\",'{:9.3e}'.format(error),\", Q1: \",'{:10.3e}'.format(Q1),\n",
        "                   \", Q2: \",'{:10.3e}'.format(Q2),\", Pmid3:\",'{:10.3e}'.format(Pmid3),\n",
        "                   \", x:\", '{:9.3e}'.format(x[0]))\n",
        "    return error\n",
        "def ThreePipes(TotFlow, DEBUG = 0):\n",
        "    #Initialize (pressure at the central manifold)\n",
        "    Pmid0 = 8.5E6/3 + 2*2.0E6/3\n",
        "#Initial guesses:\n",
        "    x0 = Pmid0\n",
        "    PARAMS = [DEBUG]\n",
        "    x = optimize.fsolve(func3pipes, x0,PARAMS,full_output=0,xtol=1.49012e-08)\n",
        "    return x[0]\n",
        "\n",
        "\n",
        "\n",
        "T3P = ThreePipes(6.0E6/(3600*24), 0)\n",
        "Q1PerDay = 24*3600*AGAGen(-9999, 8.5E6, T3P, 1.00E5, 0.35, 0.693)\n",
        "Q2PerDay = 24*3600*AGAGen(-9999, 8.5E6, T3P, 1.00E5, 0.40, 0.693)\n",
        "Q3PerDay = 24*3600*AGAGen(-9999, T3P, 2.0E6, 1.50E5, 0.50, 0.693)\n",
        "print(\"   leak\", Q3PerDay*.99)\n",
        "print(\"   DP=\",(T3P-2.0E6)*.99)\n",
        "print(\"Output from ThreePipes - mid-manifold pressure: \", '{:9.4e}'.format(T3P))\n",
        "print(\"AGAGen Pipe 1 - Flow rate: \", '{:9.4e}'.format(Q1PerDay),\"SCMPD\")\n",
        "print(\"AGAGen Pipe 2 - Flow rate: \", '{:9.4e}'.format(Q2PerDay),\"SCMPD\")\n",
        "print(\"AGAGen Pipe 3 - Flow rate: \", '{:9.4e}'.format(Q3PerDay),\"SCMPD\")\n",
        "\n",
        "print(\"Total INPUT to mid-manifold flow rate: \", \n",
        "      24*3600*((AGAGen(-9999, 8.5E6, T3P, 1.00E5, 0.35, 0.693) + AGAGen(-9999, 8.5E6, T3P, 1.00E5, 0.40, 0.693))))\n"
      ]
    },
    {
      "cell_type": "markdown",
      "metadata": {
        "id": "-etzAO32lyjg"
      },
      "source": [
        "### Using the Colebrook-White Drag law\n",
        "\n",
        "Let's do this again using the simple isothermal transport equation \n",
        "with a definition of $f$ throught the full Colebrook-White drag law.\n",
        "\n",
        "`TFColebrook`: The Colebrook-White formula for transmission factor is:\n",
        "> $\n",
        "\\frac{1}{\\sqrt{f}} = -2.0 \\log_{10} \\left [ \\frac{\\epsilon}{3.7D} + \\frac{2.51}{Re \\sqrt{f}}\\right ]\n",
        "$\n",
        "\n",
        "Arguably this is the most general and robust formula for the transmission factor.  \n",
        "It is a little more difficult to use because the formula is implicit but a Picard (fixed point) iteration converges very quickly and does not seem to be sensitive to starting estimate.  \n",
        "The function `QdotCW` handles this iteration."
      ]
    },
    {
      "cell_type": "code",
      "execution_count": 7,
      "metadata": {
        "id": "kpLYmpC5lyjg",
        "outputId": "2f032ebc-c5c9-4a52-e8fa-5d59de5e1da9",
        "colab": {
          "base_uri": "https://localhost:8080/"
        }
      },
      "outputs": [
        {
          "output_type": "stream",
          "name": "stdout",
          "text": [
            "Qdot from SITGen:  33.86400939594678  Weymouth:  34.25483928234368\n",
            "Pin:   9021656.496871555  Weymouth:  9000000.0\n",
            "Pout:  1899924.749155937  Weymouth:  2000000.0\n",
            "Len:   164167.89063954965  Weymouth:  165000.0\n"
          ]
        }
      ],
      "source": [
        "#DEFINE Simplified Isothermal Transport Equations as RetCode = f(Qdot, Pin, Pout,L; parameters)\n",
        "#Syntax: OUTPUT variable is initialised to -9999.\n",
        "#This works because, in real life everything must be positive.\n",
        "#Example:{Qdot, Pin, Pout,L} \n",
        "#  Legal examples: {-9999, Pin>Pout, Pout>0,L}- find Qdot\n",
        "#                  {Qin>0,-Pin,-9999,L} find Pout by varying Pin\n",
        "\n",
        "import math\n",
        "from scipy import optimize\n",
        "def SITGen(Qdot, Pin, Pout, L, fold, D, Sg, \n",
        "           Tavg = 277.2, zavg = 1, Tst=288.15, Pst=1.01325E5, epsilon = 0.046E-3, EPE=0, Const=137.2364,\n",
        "           DEBUG = 0):\n",
        "    \"\"\"\n",
        "    SITGen(Qdot, Pin, Pout, L, f, D, Sg, \n",
        "           Tavg=277.2K, zavg=1, Tst=288.15K, Pst=1.01325E5Pa, epsilon=0.046E-3, EPE = 0)\n",
        "    - use SIT formula to generate one of Qdot_st, Pin, Pout, L - given the other three.\n",
        "    The unknown is specified by a value of -9999. \n",
        "    We use PARAMS: [D(iameter), Sg].\n",
        "    Qdot in standard cubic metres per second.\n",
        "    \"\"\"\n",
        "    #Only one of Qdot, Pin, Pout, L should be -9999\n",
        "    MainArgs = [Qdot, Pin, Pout, L, fold]\n",
        "    PARAMS = [D, Sg]\n",
        "\n",
        "    if not (MainArgs.count(-9999) == 1): \n",
        "        print(\"Error - only one argument shout be -9999\")\n",
        "        return -9999\n",
        "    #Compute some terms in the transmission formula.\n",
        "    T1 = 13.2986 * (Tst/Pst)*pow(D,5/2)\n",
        "    denom = Sg * Tavg *zavg\n",
        "    PARAMSCW = [Pin,Pout,L,epsilon,D,Sg,EPE, T1,denom]\n",
        "    f = CWf(Qdot,0.0128,PARAMSCW)\n",
        "\n",
        "    if Qdot == -9999:\n",
        "        return QdotCW(Qdot,f,PARAMSCW)\n",
        "    elif Pin == -9999:\n",
        "        if DEBUG == 1 : print(\"SITGen to find Pin. Qdot: \", '{:12.3e}'.format(Qdot), \" Pout: \", '{:12.3e}'.format(Pout))\n",
        "        PinSq = f*L*denom*(Qdot/T1)**2 + Pout**2 + EPE\n",
        "        Pin = math.sqrt(PinSq)\n",
        "        if DEBUG == 1 : print(\"In SITGen!!: \", Qdot,Pin)\n",
        "        return Pin\n",
        "    elif Pout == -9999:\n",
        "        if DEBUG == 1 : print(\"SITGen to find Pout. Qdot: \", '{:12.3e}'.format(Qdot), \" Pin: \", '{:12.3e}'.format(Pin))\n",
        "        PoutSq = Pin**2 - f*L*denom*(Qdot/T1)**2 - EPE\n",
        "        # print(\"f,L,denom,Qdot,T1,f*L*denom*(Qdot/T1)**2\")\n",
        "        # print(f,L,denom,Qdot,T1,f*L*denom*(Qdot/T1)**2)\n",
        "        PoutSq = Pin**2 - f*L*denom*(Qdot/T1)**2 - EPE\n",
        "        if PoutSq < 0: print(\"Error: PoutSq\",PoutSq)\n",
        "        Pout = math.sqrt(abs(PoutSq))\n",
        "        return Pout\n",
        "    elif L == -9999:\n",
        "        T2 = (pow(Pin,2) - pow(Pout,2) - EPE)/denom\n",
        "        L = (T1/Qdot)**2 * T2/f\n",
        "        return L\n",
        "    return \"ERROR\"\n",
        "#A temp cell to develop stuf fin\n",
        "def QdotCW(Qdot,fold,PARAMS,DEBUG=0):\n",
        "    \"\"\"\n",
        "    Inputs[Qdot]\n",
        "    \"\"\"\n",
        "    f = CWf(Qdot,fold,PARAMS)\n",
        "    [Pin,Pout,L,epsilon,D,Sg,EPE, T1,denom] = PARAMS\n",
        "#iterate to solve for BOTH Qdot and f.\n",
        "    if Qdot == -9999 :\n",
        "        for index in range (1,20):\n",
        "            if DEBUG == 1 : print(\"SIT to find Qdot. Pin: \", '{:12.3e}'.format(Pin), \" Pout: \", '{:12.3e}'.format(Pout))\n",
        "            Qdot = T1*math.sqrt((Pin**2 - Pout**2 - EPE)/(f*L*denom))\n",
        "            fold = f\n",
        "            f = CWf(Qdot,fold,PARAMS)\n",
        "            relchange = abs(f-fold)/fold\n",
        "            if DEBUG == 1: print(index,\"OLD TF:\", fold,\"Update: \",f,\"Rel change:\",relchange)\n",
        "            if relchange < 1E-8: return Qdot\n",
        "    return \"ERROR calculating Qdot and Colebrook-White friction factor\"\n",
        "def CWf(Qdot,fold,PARAMS):\n",
        "    \"\"\"\n",
        "    Inputs[Qdot], output - Colebrook-White friction factor (f)\n",
        "    \"\"\"\n",
        "    [Pin,Pout,L,epsilon,D,Sg,EPE, T1,denom] = PARAMS\n",
        "\n",
        "    if Qdot == -9999: Re = 1E7\n",
        "    else:             Re = 145158.7*Qdot*Sg/D # Coelho Eqn 25\n",
        "    #print(\"Reynolds number: \",Re)\n",
        "    TF1 = epsilon/(3.7*D)\n",
        "    TF2 = 2.51/(Re*fold)\n",
        "    tf = -2.0*math.log10(TF1+TF2)\n",
        "    f = 1/(tf**2)\n",
        "    return f\n",
        "\n",
        "\n",
        "#ANSWER Weymouth(34.25483928234368 , 9E6, 2E6,165km)(from previous Jupyter notebook.)\n",
        "#               ,D,Sg,zavg=1,Tst=288.15,Pst=1.01325E5,EPE = 0)\n",
        "#Use an initial guess from Crane\n",
        "f = 1\n",
        "\n",
        "Qdot = SITGen(-9999 , 9E6, 2E6, 1.65E5, f, 0.34, 0.693, DEBUG = 0)\n",
        "print(\"Qdot from SITGen: \",Qdot, \" Weymouth: \", 34.25483928234368)#CORRECT\n",
        "print(\"Pin:  \",SITGen(Qdot , -9999, 2E6, 1.65E5, f, 0.34, 0.693, DEBUG = 0), \" Weymouth: \", 9.0E6)#CORRECT\n",
        "print(\"Pout: \",SITGen(Qdot , 9E6, -9999, 1.65E5, f, 0.34, 0.693, DEBUG = 0), \" Weymouth: \", 2.0E6)#CORRECT\n",
        "print(\"Len:  \",SITGen(Qdot , 9E6, 2E6, -9999, f, 0.34, 0.693, DEBUG = 0), \" Weymouth: \", 1.65E5)#CORRECT"
      ]
    },
    {
      "cell_type": "code",
      "execution_count": 8,
      "metadata": {
        "id": "5Dq5DAZqlyjh",
        "outputId": "b9a952a9-50b0-48fb-ebc1-9a902f1b6004",
        "colab": {
          "base_uri": "https://localhost:8080/"
        }
      },
      "outputs": [
        {
          "output_type": "stream",
          "name": "stdout",
          "text": [
            "Output from ThreePipes - mid-manifold pressure:  6.5857e+06\n",
            "SITGen Pipe 1 - Flow rate:  2.4621e+06 SCMPD\n",
            "SITGen Pipe 2 - Flow rate:  3.4916e+06 SCMPD\n",
            "SITGen Pipe 3 - Flow rate:  5.9546e+06 SCMPD\n",
            "Total INPUT to mid-manifold flow rate:  5953659.781366348\n"
          ]
        }
      ],
      "source": [
        "#Case 3 :) Re-do with fsolve and Simplified Isothermal Transport Equation.\n",
        "#Case 3.1 - Assume everything is at the same temperature and height.\n",
        "from scipy import optimize\n",
        "def func3pipes(x, PARAMS):\n",
        "    DEBUG = PARAMS[0]\n",
        "    if DEBUG == 1:\n",
        "        print(\"func3pipes - x:\",'{:9.3e}'.format(x[0]))#,\" 8.5E6\":\",'{:9.3e}'.format(x[0]))\n",
        "    Pmidm = x[0]\n",
        "    Q1 = SITGen(-9999, 8.5E6, Pmidm, 1.00E5, f, 0.35, 0.693, DEBUG = 0)\n",
        "    Q2 = SITGen(-9999, 8.5E6, Pmidm, 1.00E5, f, 0.40, 0.693)\n",
        "    Pmid3 = SITGen(Q1+Q2, -9999, 2.0E6, 1.50E5, f, 0.50, 0.693)\n",
        "    error = Pmid3-Pmidm\n",
        "    if DEBUG == 1:\n",
        "        print (\"err:\",'{:9.3e}'.format(error),\", Q1: \",'{:10.3e}'.format(Q1),\n",
        "                   \", Q2: \",'{:10.3e}'.format(Q2),\", Pmid3:\",'{:10.3e}'.format(Pmid3),\n",
        "                   \", x:\", '{:9.3e}'.format(x[0]))\n",
        "    return error\n",
        "def ThreePipes(TotFlow, DEBUG = 0):\n",
        "    #Initialize (pressure at the central manifold)\n",
        "    Pmid0 = 8.5E6/3 + 2*2.0E6/3\n",
        "#Initial guesses:\n",
        "    x0 = Pmid0\n",
        "    PARAMS = [DEBUG]\n",
        "    x = optimize.fsolve(func3pipes, x0,PARAMS,full_output=0,xtol=1.49012e-08)\n",
        "    return x[0]\n",
        "\n",
        "\n",
        "\n",
        "T3P = ThreePipes(6.0E6/(3600*24), 0)\n",
        "Q1PerDay = 24*3600*SITGen(-9999, 8.5E6, T3P, 1.00E5, f, 0.35, 0.693)\n",
        "Q2PerDay = 24*3600*SITGen(-9999, 8.5E6, T3P, 1.00E5, f, 0.40, 0.693)\n",
        "Q3PerDay = 24*3600*SITGen(-9999, T3P, 2.0E6, 1.50E5, f, 0.50, 0.693)\n",
        "\n",
        "print(\"Output from ThreePipes - mid-manifold pressure: \", '{:9.4e}'.format(T3P))\n",
        "print(\"SITGen Pipe 1 - Flow rate: \", '{:9.4e}'.format(Q1PerDay),\"SCMPD\")\n",
        "print(\"SITGen Pipe 2 - Flow rate: \", '{:9.4e}'.format(Q2PerDay),\"SCMPD\")\n",
        "print(\"SITGen Pipe 3 - Flow rate: \", '{:9.4e}'.format(Q3PerDay),\"SCMPD\")\n",
        "\n",
        "print(\"Total INPUT to mid-manifold flow rate: \", \n",
        "      24*3600*((SITGen(-9999, 8.5E6, T3P, 1.00E5, f, 0.35, 0.693) + SITGen(-9999, 8.5E6, T3P, 1.00E5, f, 0.40, 0.693))))\n"
      ]
    },
    {
      "cell_type": "markdown",
      "metadata": {
        "id": "dJWnVGR3lyjh"
      },
      "source": [
        "### Case 4: Leak detection\n",
        "1. Suppose we have two of flow meters measuring the outputs from P1 and P2 (the two inlet pipes). \n",
        "   -  $Q_1$ = 2.4621e+06 SCMPD\n",
        "   -  $Q_2$ = 3.4916e+06 SCMPD\n",
        "1. Further, suppose the flow meter at the outlet of P3, the outlet to the system reads:\n",
        "   - $Q_3$ = 5.9546e+06 SCMPD with a pressure drop of $\\Delta$P = 4.539870MPa\n",
        "   \n",
        "How do you resolve these readings?"
      ]
    },
    {
      "cell_type": "markdown",
      "metadata": {
        "id": "eF9VGbvHlyjh"
      },
      "source": [
        "------------\n",
        "Observe that $Q_1 + Q_2 \\ne Q_3$. With the information supplied we can find the size and the location of the leak!"
      ]
    },
    {
      "cell_type": "code",
      "execution_count": null,
      "metadata": {
        "id": "k8nCXnqIlyjh"
      },
      "outputs": [],
      "source": [
        ""
      ]
    }
  ],
  "metadata": {
    "kernelspec": {
      "display_name": "Python 3",
      "language": "python",
      "name": "python3"
    },
    "language_info": {
      "codemirror_mode": {
        "name": "ipython",
        "version": 3
      },
      "file_extension": ".py",
      "mimetype": "text/x-python",
      "name": "python",
      "nbconvert_exporter": "python",
      "pygments_lexer": "ipython3",
      "version": "3.7.8"
    },
    "colab": {
      "name": "GasEqns101.ipynb",
      "provenance": []
    }
  },
  "nbformat": 4,
  "nbformat_minor": 0
}